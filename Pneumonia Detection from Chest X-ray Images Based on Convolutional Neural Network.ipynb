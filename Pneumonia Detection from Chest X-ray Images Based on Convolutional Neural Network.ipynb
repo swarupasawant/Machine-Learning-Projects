{
 "cells": [
  {
   "cell_type": "code",
   "execution_count": 27,
   "id": "f0469646",
   "metadata": {},
   "outputs": [
    {
     "name": "stdout",
     "output_type": "stream",
     "text": [
      "1.14.0\n"
     ]
    }
   ],
   "source": [
    "from keras.preprocessing.image import ImageDataGenerator\n",
    "from keras.models import Sequential\n",
    "from keras.layers import Conv2D,MaxPooling2D\n",
    "from keras.layers import Activation,Dropout,Flatten,Dense\n",
    "from keras import backend as K\n",
    "#import tensorflow\n",
    "from sklearn.metrics import precision_recall_curve,confusion_matrix\n",
    "import os\n",
    "import tensorflow as tf\n",
    "print(tf.__version__)"
   ]
  },
  {
   "cell_type": "code",
   "execution_count": 2,
   "id": "07434fdc",
   "metadata": {},
   "outputs": [
    {
     "data": {
      "text/plain": [
       "'C:\\\\Users\\\\Swarupa\\\\Desktop\\\\XRAY'"
      ]
     },
     "execution_count": 2,
     "metadata": {},
     "output_type": "execute_result"
    }
   ],
   "source": [
    "os.chdir(\"C:\\\\Users\\\\Swarupa\\\\Desktop\\\\XRAY\")\n",
    "os.getcwd()"
   ]
  },
  {
   "cell_type": "code",
   "execution_count": 8,
   "id": "34a8b986",
   "metadata": {},
   "outputs": [],
   "source": [
    "img_width, img_height = 224, 224\n",
    "train_data_dir ='train'\n",
    "validation_data_dir= 'val'\n",
    "test_data_dir='test'\n",
    "\n",
    "nb_validation_samples =50 #high than batch size coz of floor div\n",
    "nb_train_samples = 15\n",
    "epochs= 10\n",
    "batch_size = 10\n"
   ]
  },
  {
   "cell_type": "code",
   "execution_count": 9,
   "id": "f76a191a",
   "metadata": {},
   "outputs": [],
   "source": [
    "if K.image_data_format()=='channels_first':\n",
    "    input_shape = (3,img_width, img_height)\n",
    "else:\n",
    "    input_shape = (img_width, img_height,3)"
   ]
  },
  {
   "cell_type": "code",
   "execution_count": 10,
   "id": "1dc8d296",
   "metadata": {},
   "outputs": [
    {
     "name": "stdout",
     "output_type": "stream",
     "text": [
      "Found 5216 images belonging to 2 classes.\n",
      "Found 16 images belonging to 2 classes.\n",
      "Found 624 images belonging to 2 classes.\n"
     ]
    }
   ],
   "source": [
    "train_datagen= ImageDataGenerator(rescale=1./255,shear_range=0.2,\n",
    "                                  zoom_range=0.2, horizontal_flip=True)\n",
    "\n",
    "validation_datagen= ImageDataGenerator(rescale=1./255,shear_range=0.2,\n",
    "                                       zoom_range=0.2, horizontal_flip=True)\n",
    "\n",
    "test_datagen=ImageDataGenerator(rescale=1./255,shear_range=0.2,\n",
    "                                zoom_range=0.2, horizontal_flip=True)\n",
    "\n",
    "train_generator=train_datagen.flow_from_directory(train_data_dir,target_size=(img_width, img_height),\n",
    "                                                 batch_size=batch_size, class_mode='binary')\n",
    "\n",
    "validation_generator=validation_datagen.flow_from_directory(validation_data_dir,target_size=(img_width, img_height),\n",
    "                                                 batch_size=batch_size, class_mode='binary')\n",
    "\n",
    "test_genrator=test_datagen.flow_from_directory(test_data_dir,\n",
    "                                               target_size=(img_width, img_height),\n",
    "                                               class_mode='binary')"
   ]
  },
  {
   "cell_type": "code",
   "execution_count": 11,
   "id": "d4ecfe9f",
   "metadata": {},
   "outputs": [],
   "source": [
    "model= Sequential()\n",
    "model.add(Conv2D(32,(3,3),input_shape = input_shape))\n",
    "model.add(Activation('relu'))\n",
    "model.add(MaxPooling2D(pool_size=(2,2)))\n",
    "\n",
    "model.add(Conv2D(32,(3,3),input_shape = input_shape))\n",
    "model.add(Activation('relu'))\n",
    "model.add(MaxPooling2D(pool_size=(2,2)))\n",
    "\n",
    "model.add(Conv2D(64,(3,3),input_shape = input_shape))\n",
    "model.add(Activation('relu'))\n",
    "model.add(MaxPooling2D(pool_size=(2,2)))\n",
    "\n",
    "model.add(Flatten())\n",
    "model.add(Dense(64))\n",
    "model.add(Activation('relu'))\n",
    "\n",
    "model.add(Dropout(0.5))\n",
    "model.add(Dense(1))\n",
    "model.add(Activation('sigmoid'))\n",
    "\n",
    "model.compile(loss = 'binary_crossentropy',optimizer='rmsprop',metrics=['accuracy'])"
   ]
  },
  {
   "cell_type": "code",
   "execution_count": 20,
   "id": "ca8aef2a",
   "metadata": {},
   "outputs": [
    {
     "name": "stdout",
     "output_type": "stream",
     "text": [
      "_________________________________________________________________\n",
      "Layer (type)                 Output Shape              Param #   \n",
      "=================================================================\n",
      "conv2d_4 (Conv2D)            (None, 222, 222, 32)      896       \n",
      "_________________________________________________________________\n",
      "activation_6 (Activation)    (None, 222, 222, 32)      0         \n",
      "_________________________________________________________________\n",
      "max_pooling2d_4 (MaxPooling2 (None, 111, 111, 32)      0         \n",
      "_________________________________________________________________\n",
      "conv2d_5 (Conv2D)            (None, 109, 109, 32)      9248      \n",
      "_________________________________________________________________\n",
      "activation_7 (Activation)    (None, 109, 109, 32)      0         \n",
      "_________________________________________________________________\n",
      "max_pooling2d_5 (MaxPooling2 (None, 54, 54, 32)        0         \n",
      "_________________________________________________________________\n",
      "conv2d_6 (Conv2D)            (None, 52, 52, 64)        18496     \n",
      "_________________________________________________________________\n",
      "activation_8 (Activation)    (None, 52, 52, 64)        0         \n",
      "_________________________________________________________________\n",
      "max_pooling2d_6 (MaxPooling2 (None, 26, 26, 64)        0         \n",
      "_________________________________________________________________\n",
      "flatten_2 (Flatten)          (None, 43264)             0         \n",
      "_________________________________________________________________\n",
      "dense_3 (Dense)              (None, 64)                2768960   \n",
      "_________________________________________________________________\n",
      "activation_9 (Activation)    (None, 64)                0         \n",
      "_________________________________________________________________\n",
      "dropout_2 (Dropout)          (None, 64)                0         \n",
      "_________________________________________________________________\n",
      "dense_4 (Dense)              (None, 1)                 65        \n",
      "_________________________________________________________________\n",
      "activation_10 (Activation)   (None, 1)                 0         \n",
      "=================================================================\n",
      "Total params: 2,797,665\n",
      "Trainable params: 2,797,665\n",
      "Non-trainable params: 0\n",
      "_________________________________________________________________\n"
     ]
    }
   ],
   "source": [
    "model.summaryary()"
   ]
  },
  {
   "cell_type": "code",
   "execution_count": 12,
   "id": "01ddf368",
   "metadata": {},
   "outputs": [
    {
     "name": "stdout",
     "output_type": "stream",
     "text": [
      "Epoch 1/10\n",
      "1/1 [==============================] - 17s 17s/step - loss: 0.6885 - acc: 0.5000 - val_loss: 0.8861 - val_acc: 0.5714\n",
      "Epoch 2/10\n",
      "1/1 [==============================] - 2s 2s/step - loss: 3.3111 - acc: 0.6000 - val_loss: 9.2298 - val_acc: 0.4211\n",
      "Epoch 3/10\n",
      "1/1 [==============================] - 1s 1s/step - loss: 4.7876 - acc: 0.7000 - val_loss: 8.3290 - val_acc: 0.4762\n",
      "Epoch 4/10\n",
      "1/1 [==============================] - 1s 1s/step - loss: 0.9203 - acc: 0.9000 - val_loss: 4.9771 - val_acc: 0.5263\n",
      "Epoch 5/10\n",
      "1/1 [==============================] - 2s 2s/step - loss: 4.3770 - acc: 0.5000 - val_loss: 8.5100 - val_acc: 0.4524\n",
      "Epoch 6/10\n",
      "1/1 [==============================] - 1s 1s/step - loss: 2.4183 - acc: 0.8000 - val_loss: 5.3364 - val_acc: 0.5526\n",
      "Epoch 7/10\n",
      "1/1 [==============================] - 2s 2s/step - loss: 3.6838 - acc: 0.7000 - val_loss: 4.7662 - val_acc: 0.4762\n",
      "Epoch 8/10\n",
      "1/1 [==============================] - 2s 2s/step - loss: 1.2082 - acc: 0.9000 - val_loss: 1.2406 - val_acc: 0.5263\n",
      "Epoch 9/10\n",
      "1/1 [==============================] - 1s 1s/step - loss: 1.1743 - acc: 0.5000 - val_loss: 1.7065 - val_acc: 0.5000\n",
      "Epoch 10/10\n",
      "1/1 [==============================] - 2s 2s/step - loss: 1.4904 - acc: 0.8000 - val_loss: 0.7182 - val_acc: 0.5000\n"
     ]
    }
   ],
   "source": [
    "Hist = model.fit_generator(train_generator,steps_per_epoch = nb_train_samples // batch_size,\n",
    "                         epochs = epochs, validation_data = validation_generator,\n",
    "                         validation_steps = nb_validation_samples// batch_size)"
   ]
  },
  {
   "cell_type": "code",
   "execution_count": 22,
   "id": "bac557ab",
   "metadata": {},
   "outputs": [
    {
     "data": {
      "image/png": "[encoded data removed]",
      "text/plain": [
       "<Figure size 640x480 with 1 Axes>"
      ]
     },
     "metadata": {},
     "output_type": "display_data"
    }
   ],
   "source": [
    "import matplotlib.pyplot as plt\n",
    "\n",
    "plt.plot(Hist.history['acc'])\n",
    "plt.plot(Hist.history['loss'])\n",
    "plt.plot(Hist.history['val_acc'])\n",
    "plt.plot(Hist.history['val_loss'])\n",
    "plt.title('model accuracy')\n",
    "plt.ylabel('accuracy')\n",
    "plt.xlabel('epoch')\n",
    "plt.legend(['acc','loss','val_acc','val_loss'], loc='upper left')\n",
    "plt.show()"
   ]
  },
  {
   "cell_type": "code",
   "execution_count": null,
   "id": "9a2bfd65",
   "metadata": {},
   "outputs": [],
   "source": []
  },
  {
   "cell_type": "code",
   "execution_count": 15,
   "id": "e23f7516",
   "metadata": {},
   "outputs": [],
   "source": [
    "model.save('Pneumonia_detection_model.h5')"
   ]
  },
  {
   "cell_type": "code",
   "execution_count": 31,
   "id": "afd4f666",
   "metadata": {},
   "outputs": [
    {
     "name": "stdout",
     "output_type": "stream",
     "text": [
      "3/3 [==============================] - 9s 3s/step\n"
     ]
    }
   ],
   "source": [
    "predict = model.predict_generator(test_genrator ,steps=3,verbose=1)\n",
    "\n",
    "\n",
    "# precision,recall,thesholds = precision_recall_curve(train_generator,predict)"
   ]
  },
  {
   "cell_type": "code",
   "execution_count": 24,
   "id": "0b9565b2",
   "metadata": {},
   "outputs": [],
   "source": [
    "# def plot_precision_recall(precision,recall,thesholds):\n",
    "#     plt.plot(thesholds, precision[:1],'b----')\n",
    "#     plt.plot(thesholds, recall[:1],'g-')\n",
    "#     plt.title('precision vs recall')\n",
    "#     plt.xlabel('thesholds')\n",
    "#     plt.legend(['precision', 'recall'], loc='best')\n",
    "#     plt.show()"
   ]
  },
  {
   "cell_type": "code",
   "execution_count": 33,
   "id": "0bff1cf6",
   "metadata": {},
   "outputs": [],
   "source": [
    "# matrix = confusion_matrix(predict,test_genrator)"
   ]
  },
  {
   "cell_type": "code",
   "execution_count": 19,
   "id": "bee9ce66",
   "metadata": {},
   "outputs": [
    {
     "data": {
      "text/plain": [
       "array([[0.5857971 ],\n",
       "       [0.5953342 ],\n",
       "       [0.61572504],\n",
       "       [0.6115788 ],\n",
       "       [0.59072274],\n",
       "       [0.5858249 ],\n",
       "       [0.5727995 ],\n",
       "       [0.6115374 ],\n",
       "       [0.5915966 ],\n",
       "       [0.6121891 ],\n",
       "       [0.5946327 ],\n",
       "       [0.56965005],\n",
       "       [0.6244918 ],\n",
       "       [0.6060688 ],\n",
       "       [0.5874562 ],\n",
       "       [0.57060546],\n",
       "       [0.60789603],\n",
       "       [0.5823432 ],\n",
       "       [0.58044714],\n",
       "       [0.57076174],\n",
       "       [0.6144667 ],\n",
       "       [0.61344165],\n",
       "       [0.60678804],\n",
       "       [0.5959015 ],\n",
       "       [0.6311779 ],\n",
       "       [0.606873  ],\n",
       "       [0.6157077 ],\n",
       "       [0.59540164],\n",
       "       [0.63082635],\n",
       "       [0.5926638 ],\n",
       "       [0.6079509 ],\n",
       "       [0.5821398 ],\n",
       "       [0.5994751 ],\n",
       "       [0.60942745],\n",
       "       [0.5877442 ],\n",
       "       [0.5933175 ],\n",
       "       [0.5896373 ],\n",
       "       [0.58766955],\n",
       "       [0.59147125],\n",
       "       [0.59131646],\n",
       "       [0.6246964 ],\n",
       "       [0.6081505 ],\n",
       "       [0.61763275],\n",
       "       [0.5957257 ],\n",
       "       [0.595838  ],\n",
       "       [0.57985026],\n",
       "       [0.5931641 ],\n",
       "       [0.61374396],\n",
       "       [0.61233956],\n",
       "       [0.6113925 ],\n",
       "       [0.6089593 ],\n",
       "       [0.58553475],\n",
       "       [0.5922238 ],\n",
       "       [0.6317808 ],\n",
       "       [0.61545336],\n",
       "       [0.5870522 ],\n",
       "       [0.5953383 ],\n",
       "       [0.61335826],\n",
       "       [0.6110711 ],\n",
       "       [0.6177829 ],\n",
       "       [0.5967804 ],\n",
       "       [0.60315764],\n",
       "       [0.60360837],\n",
       "       [0.5846817 ],\n",
       "       [0.57361394],\n",
       "       [0.59427476],\n",
       "       [0.604666  ],\n",
       "       [0.6046721 ],\n",
       "       [0.58984464],\n",
       "       [0.5898427 ],\n",
       "       [0.58752275],\n",
       "       [0.59153193],\n",
       "       [0.54826826],\n",
       "       [0.58275217],\n",
       "       [0.62398887],\n",
       "       [0.60329443],\n",
       "       [0.6182058 ],\n",
       "       [0.6176253 ],\n",
       "       [0.62945133],\n",
       "       [0.6159574 ],\n",
       "       [0.5548996 ],\n",
       "       [0.6071328 ],\n",
       "       [0.6138929 ],\n",
       "       [0.60217524],\n",
       "       [0.600579  ],\n",
       "       [0.5966236 ],\n",
       "       [0.6004838 ],\n",
       "       [0.6010631 ],\n",
       "       [0.6021569 ],\n",
       "       [0.6230594 ],\n",
       "       [0.6011098 ],\n",
       "       [0.608534  ],\n",
       "       [0.6272658 ],\n",
       "       [0.6153362 ],\n",
       "       [0.5753441 ],\n",
       "       [0.6142499 ]], dtype=float32)"
      ]
     },
     "execution_count": 19,
     "metadata": {},
     "output_type": "execute_result"
    }
   ],
   "source": [
    "predict"
   ]
  },
  {
   "cell_type": "code",
   "execution_count": null,
   "id": "3eaccf70",
   "metadata": {},
   "outputs": [],
   "source": []
  },
  {
   "cell_type": "code",
   "execution_count": null,
   "id": "87917f8e",
   "metadata": {},
   "outputs": [],
   "source": []
  }
 ],
 "metadata": {
  "kernelspec": {
   "display_name": "Python 3",
   "language": "python",
   "name": "python3"
  },
  "language_info": {
   "codemirror_mode": {
    "name": "ipython",
    "version": 3
   },
   "file_extension": ".py",
   "mimetype": "text/x-python",
   "name": "python",
   "nbconvert_exporter": "python",
   "pygments_lexer": "ipython3",
   "version": "3.7.3"
  }
 },
 "nbformat": 4,
 "nbformat_minor": 5
}
