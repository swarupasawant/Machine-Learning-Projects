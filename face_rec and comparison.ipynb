{
 "cells": [
  {
   "cell_type": "code",
   "execution_count": 1,
   "id": "3c947594",
   "metadata": {},
   "outputs": [],
   "source": [
    "import cv2\n",
    "import face_recognition"
   ]
  },
  {
   "cell_type": "code",
   "execution_count": 2,
   "id": "87e73157",
   "metadata": {},
   "outputs": [
    {
     "data": {
      "text/plain": [
       "-1"
      ]
     },
     "execution_count": 2,
     "metadata": {},
     "output_type": "execute_result"
    }
   ],
   "source": [
    "#loading 1st image\n",
    "img = cv2.imread(\"F:\\Images\\Hrithik Roshan.jpg\")\n",
    "rgb_img = cv2.cvtColor(img,cv2.COLOR_BGR2RGB)\n",
    "\n",
    "img_encoding = face_recognition.face_encodings(rgb_img)[0]\n",
    "\n",
    "cv2.imshow(\"IMG\",img)\n",
    "cv2.waitKey(0)"
   ]
  },
  {
   "cell_type": "code",
   "execution_count": 3,
   "id": "8eb182c3",
   "metadata": {},
   "outputs": [
    {
     "data": {
      "text/plain": [
       "-1"
      ]
     },
     "execution_count": 3,
     "metadata": {},
     "output_type": "execute_result"
    }
   ],
   "source": [
    "#loading 2st image\n",
    "img2 = cv2.imread(\"F:\\pc.jpg\")\n",
    "rgb_img2 = cv2.cvtColor(img2,cv2.COLOR_BGR2RGB)\n",
    "\n",
    "img_encoding2 = face_recognition.face_encodings(rgb_img2)[0]\n",
    "cv2.imshow(\"IMG2\",img2)\n",
    "cv2.waitKey(0)"
   ]
  },
  {
   "cell_type": "code",
   "execution_count": 4,
   "id": "eba44889",
   "metadata": {},
   "outputs": [
    {
     "name": "stdout",
     "output_type": "stream",
     "text": [
      "Result :  [False]\n"
     ]
    }
   ],
   "source": [
    "result = face_recognition.compare_faces([img_encoding],img_encoding2)\n",
    "print(\"Result : \",result)"
   ]
  },
  {
   "cell_type": "code",
   "execution_count": null,
   "id": "d76d8624",
   "metadata": {},
   "outputs": [],
   "source": []
  }
 ],
 "metadata": {
  "kernelspec": {
   "display_name": "Python 3",
   "language": "python",
   "name": "python3"
  },
  "language_info": {
   "codemirror_mode": {
    "name": "ipython",
    "version": 3
   },
   "file_extension": ".py",
   "mimetype": "text/x-python",
   "name": "python",
   "nbconvert_exporter": "python",
   "pygments_lexer": "ipython3",
   "version": "3.7.3"
  }
 },
 "nbformat": 4,
 "nbformat_minor": 5
}
